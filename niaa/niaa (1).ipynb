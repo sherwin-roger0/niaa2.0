{
 "cells": [
  {
   "cell_type": "code",
   "execution_count": 5,
   "metadata": {},
   "outputs": [],
   "source": [
    "import os\n",
    "from IPython.display import Markdown, display"
   ]
  },
  {
   "cell_type": "code",
   "execution_count": 6,
   "metadata": {},
   "outputs": [],
   "source": [
    "def ask_ai():\n",
    "    from llama_index import StorageContext, load_index_from_storage\n",
    "    storage_context = StorageContext.from_defaults(persist_dir=\"AI\")\n",
    "    index = load_index_from_storage(storage_context)\n",
    "\n",
    "    while True:\n",
    "        query_engine = index.as_query_engine() \n",
    "        query = input(\"What do you want to ask? \")\n",
    "        response = query_engine.query(query)\n",
    "        return response.response"
   ]
  },
  {
   "cell_type": "code",
   "execution_count": 7,
   "metadata": {},
   "outputs": [],
   "source": [
    "os.environ[\"OPENAI_API_KEY\"] = \"API-KEY\""
   ]
  },
  {
   "cell_type": "code",
   "execution_count": 1,
   "metadata": {},
   "outputs": [],
   "source": [
    "answer=\"ask_ai()\""
   ]
  },
  {
   "cell_type": "code",
   "execution_count": null,
   "metadata": {},
   "outputs": [
    {
     "name": "stdout",
     "output_type": "stream",
     "text": [
      "\n",
      "The Department of Artificial Intelligence was established in the year 2020 with an intake of 60 students. It is a four-year full-time undergraduate program recognized by the All India Council for Technical Education (AICTE). The department has 2 well-equipped laboratories with higher configuration systems along with a smartboard available in each laboratory to give the best to the students. All laboratories are designed with the aim to present as an Activity Based Learning (ABL) laboratory to the students where they use all equipment in a comfortable environment. The department also provides exclusive training for competitive exams such as GRE,GMAT,CAT,MAT,Toefl,IES/ GATE etc.\n"
     ]
    }
   ],
   "source": [
    "print(answer)"
   ]
  },
  {
   "cell_type": "code",
   "execution_count": null,
   "metadata": {},
   "outputs": [],
   "source": []
  }
 ],
 "metadata": {
  "kernelspec": {
   "display_name": "Python 3",
   "language": "python",
   "name": "python3"
  },
  "language_info": {
   "codemirror_mode": {
    "name": "ipython",
    "version": 3
   },
   "file_extension": ".py",
   "mimetype": "text/x-python",
   "name": "python",
   "nbconvert_exporter": "python",
   "pygments_lexer": "ipython3",
   "version": "3.9.1"
  },
  "orig_nbformat": 4
 },
 "nbformat": 4,
 "nbformat_minor": 2
}
